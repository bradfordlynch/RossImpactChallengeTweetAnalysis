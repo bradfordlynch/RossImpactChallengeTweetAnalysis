{
 "cells": [
  {
   "cell_type": "markdown",
   "metadata": {},
   "source": [
    "# Analysis of Ross Impact Challenge Tweets\n",
    "#### Load the labMT words and list of stop words that should be removed."
   ]
  },
  {
   "cell_type": "code",
   "execution_count": 93,
   "metadata": {
    "collapsed": false
   },
   "outputs": [],
   "source": [
    "import os.path, re\n",
    "import numpy as np\n",
    "import io, json\n",
    "#Working Directory\n",
    "baseDir = os.path.join('rossImpactTweets')\n",
    "\n",
    "def parseTweets(filename):\n",
    "    with io.open('/vagrant/rossImpactTweets/{0}.json'.format(filename), \n",
    "                 encoding='utf-8') as f:\n",
    "        rawTweets = json.loads(f.read())\n",
    "        \n",
    "        return sc.parallelize(rawTweets).zipWithIndex().map(lambda s: (s[1], s[0])).cache()\n",
    "\n",
    "DATAFILE_PATTERN = '^(.+),(.+),(.+),(.+),(.+),(.+),(.+),(.+)'\n",
    "\n",
    "def parseDatafileLine(datafileLine):\n",
    "    \"\"\" Parse a line of the data file using the specified regular expression pattern\n",
    "    Args:\n",
    "        datafileLine (str): input string that is a line from the data file\n",
    "    Returns:\n",
    "        str: a string parsed using the given regular expression and without the quote characters\n",
    "    \"\"\"\n",
    "    match = re.search(DATAFILE_PATTERN, datafileLine)\n",
    "    if match is None:\n",
    "        print 'Invalid datafile line: %s' % datafileLine\n",
    "        return (datafileLine, -1)\n",
    "    elif str(match.group(1)) == \"wordText\":\n",
    "        print 'Header datafile line: %s' % datafileLine\n",
    "        return (datafileLine, 0)\n",
    "    else:\n",
    "        line = [str(match.group(1))]\n",
    "        \n",
    "        for i in range(2,9):\n",
    "            try:\n",
    "                line.append(float(match.group(i)))\n",
    "            except ValueError:\n",
    "                print \"Failed to Convert: \" + str(match.group(i))\n",
    "        \n",
    "        return (tuple(line), 1)\n",
    "    \n",
    "def parseData(filename):\n",
    "    \"\"\" Parse a data file\n",
    "    Args:\n",
    "        filename (str): input file name of the data file\n",
    "    Returns:\n",
    "        RDD: a RDD of parsed lines\n",
    "    \"\"\"\n",
    "    return (sc\n",
    "            .textFile(filename, 4, 0)\n",
    "            .map(parseDatafileLine)\n",
    "            .cache())\n",
    "\n",
    "def createWordParamsDict(wordLine, keys):\n",
    "    word = wordLine[0]\n",
    "    wordParamDict = {}\n",
    "    for i in range(1, 8):\n",
    "        wordParamDict[keys[i]] = wordLine[i]\n",
    "        \n",
    "    return (word, wordParamDict)\n",
    "    \n",
    "def loadData(path):\n",
    "    \"\"\" Load a data file\n",
    "    Args:\n",
    "        path (str): input file name of the data file\n",
    "    Returns:\n",
    "        RDD: a RDD of parsed valid lines\n",
    "    \"\"\"\n",
    "    filename = os.path.join(path)\n",
    "    raw = parseData(filename).cache()\n",
    "    \n",
    "    headerLine = (raw\n",
    "                  .filter(lambda s: s[1] == 0)\n",
    "                  .take(1))[0][0].split(',')\n",
    "    \n",
    "    failed = (raw\n",
    "              .filter(lambda s: s[1] == -1)\n",
    "              .map(lambda s: s[0]))\n",
    "    for line in failed.take(10):\n",
    "        print '%s - Invalid datafile line: %s' % (path, line)\n",
    "    valid = (raw\n",
    "             .filter(lambda s: s[1] == 1)\n",
    "             .map(lambda s: createWordParamsDict(s[0], headerLine))\n",
    "             .cache())\n",
    "    print '%s - Read %d lines, successfully parsed %d lines, failed to parse %d lines' % (path,\n",
    "                                                                                        raw.count(),\n",
    "                                                                                        valid.count(),\n",
    "                                                                                        failed.count())\n",
    "    assert failed.count() == 0\n",
    "    assert raw.count() == (valid.count() + 1)\n",
    "    return valid\n"
   ]
  },
  {
   "cell_type": "code",
   "execution_count": 94,
   "metadata": {
    "collapsed": false
   },
   "outputs": [
    {
     "name": "stdout",
     "output_type": "stream",
     "text": [
      "/vagrant/labMT.csv - Read 10223 lines, successfully parsed 10222 lines, failed to parse 0 lines\n"
     ]
    }
   ],
   "source": [
    "labMT = loadData('/vagrant/labMT.csv')\n",
    "\n",
    "#Create a broadcast variable for the labMT words\n",
    "labMTBroadcast = sc.broadcast(labMT.collectAsMap())"
   ]
  },
  {
   "cell_type": "code",
   "execution_count": 95,
   "metadata": {
    "collapsed": false
   },
   "outputs": [
    {
     "name": "stdout",
     "output_type": "stream",
     "text": [
      "Loaded 137 stop words.\n"
     ]
    }
   ],
   "source": [
    "#Stop words\n",
    "inputPathStopWords = os.path.join('/vagrant/stopwords.txt')\n",
    "stopWordsFileName = os.path.join(baseDir, inputPathStopWords)\n",
    "\n",
    "#Load stop words\n",
    "stopWords = set(sc.textFile(stopWordsFileName).collect())\n",
    "\n",
    "print \"Loaded %s stop words.\" % (len(stopWords))"
   ]
  },
  {
   "cell_type": "code",
   "execution_count": 96,
   "metadata": {
    "collapsed": false
   },
   "outputs": [],
   "source": [
    "def writeWordsToFile(words, fileName):\n",
    "    #Save a table of the top 100 words\n",
    "    wordFile = open(os.path.join(fileName), 'wb')\n",
    "    for wordLine in words:\n",
    "        toWrite = \"\"\n",
    "        for word in wordLine:\n",
    "            toWrite += str(word) + ','\n",
    "        toWrite += \"\\n\"\n",
    "        wordFile.write(toWrite)\n",
    "    wordFile.close()"
   ]
  },
  {
   "cell_type": "markdown",
   "metadata": {},
   "source": [
    "#### Load text file containing tweets"
   ]
  },
  {
   "cell_type": "code",
   "execution_count": 152,
   "metadata": {
    "collapsed": false
   },
   "outputs": [
    {
     "name": "stdout",
     "output_type": "stream",
     "text": [
      "Read in 4261 tweets.\n"
     ]
    }
   ],
   "source": [
    "#Load tweets\n",
    "rawTweetsRDD = parseTweets('rossImpactTweets')\n",
    "\n",
    "#Count the number of paragraphs\n",
    "numTweets = rawTweetsRDD.count()\n",
    "\n",
    "print \"Read in %i tweets.\" % numTweets"
   ]
  },
  {
   "cell_type": "code",
   "execution_count": 135,
   "metadata": {
    "collapsed": false
   },
   "outputs": [
    {
     "data": {
      "text/plain": [
       "u'RT @yassisetayesh: @MichaelPhelps Can we get a RT from a fellow @UMich Alum? #RossImpact #Sec2 http://t.co/vTBXvmauZG https://t.co/oQllkQjc\\u2026'"
      ]
     },
     "execution_count": 135,
     "metadata": {},
     "output_type": "execute_result"
    }
   ],
   "source": [
    "rawTweetsRDD.take(1)[0][1]['text']"
   ]
  },
  {
   "cell_type": "code",
   "execution_count": 151,
   "metadata": {
    "collapsed": false
   },
   "outputs": [
    {
     "name": "stdout",
     "output_type": "stream",
     "text": [
      "Number of unique tweets: 365\n",
      "Average number of retweets per tweet: 11.673973\n"
     ]
    }
   ],
   "source": [
    "noRetweetsRDD = (rawTweetsRDD\n",
    "                 .filter(lambda tweet: 'RT' not in tweet[1]['text']))\n",
    "\n",
    "numUniqueTweets = noRetweetsRDD.count()\n",
    "\n",
    "print \"Number of unique tweets: %i\" % numUniqueTweets\n",
    "print \"Average number of retweets per tweet: %f\" % (float(numTweets)/numUniqueTweets)"
   ]
  },
  {
   "cell_type": "markdown",
   "metadata": {},
   "source": [
    "## Remove stop words"
   ]
  },
  {
   "cell_type": "code",
   "execution_count": 153,
   "metadata": {
    "collapsed": false
   },
   "outputs": [
    {
     "name": "stdout",
     "output_type": "stream",
     "text": [
      "Dataset of all tweets has 37076 tokens.\n",
      "Dataset without retweets has 3139 tokens.\n"
     ]
    }
   ],
   "source": [
    "handle_regex = r'(?<=^|(?<=[^a-zA-Z0-9-_\\.]))@([A-Za-z]+[A-Za-z0-9]+)'\n",
    "url_regex = r'http[s]?://(?:[a-zA-Z]|[0-9]|[$-_@.&+]|[!*\\(\\),]|(?:%[0-9a-fA-F][0-9a-fA-F]))+'\n",
    "split_regex = r'\\W+'\n",
    "sections = ['sec1', 'sec2', 'sec3', 'sec4', 'sec5', 'sec6']\n",
    "\n",
    "\n",
    "def tokenize(string):\n",
    "    \"\"\" An implementation of input string tokenization that excludes stopwords\n",
    "    Args:\n",
    "        string (str): input string\n",
    "    Returns:\n",
    "        list: a list of tokens without stopwords\n",
    "    \"\"\"\n",
    "    tokenizedString = re.sub(handle_regex, '', string)\n",
    "    tokenizedString = re.sub(url_regex, '', tokenizedString)\n",
    "    tokenizedString = re.split(split_regex, tokenizedString.lower().replace('-', ''))\n",
    "    \n",
    "    i = 0\n",
    "    \n",
    "    while i < len(tokenizedString):\n",
    "        if (tokenizedString[i] in stopWords) or (tokenizedString[i] == ''):\n",
    "            newList = tokenizedString[:i]\n",
    "            newList.extend(tokenizedString[i+1:])\n",
    "            tokenizedString = newList\n",
    "        else:\n",
    "            i += 1\n",
    "            \n",
    "    \n",
    "    return tokenizedString\n",
    "\n",
    "def countTokens(tokenizedRDD):\n",
    "    \"\"\" Count and return the number of tokens\n",
    "    Args:\n",
    "        tokenizedRDD (RDD of (Id, tokenizedValue)): Pair tuple of record ID to tokenized output\n",
    "    Returns:\n",
    "        count: count of all tokens\n",
    "    \"\"\"\n",
    "    return tokenizedRDD.map(lambda s: len(s[1])).reduce(lambda a, b: a+b)\n",
    "\n",
    "#Tokenize the entries\n",
    "tweetsTokenized = (rawTweetsRDD\n",
    "                   .map(lambda tweet: (tweet[0], tweet[1]['text']) )\n",
    "                   .mapValues(tokenize)\n",
    "                   .cache())\n",
    "\n",
    "noRetweetsTokenized = (noRetweetsRDD\n",
    "                   .map(lambda tweet: (tweet[0], tweet[1]['text']) )\n",
    "                   .mapValues(tokenize)\n",
    "                   .cache())\n",
    "\n",
    "#Count the number of tokens\n",
    "print \"Dataset of all tweets has {:d} tokens.\".format(countTokens(tweetsTokenized))\n",
    "print \"Dataset without retweets has {:d} tokens.\".format(countTokens(noRetweetsTokenized))"
   ]
  },
  {
   "cell_type": "code",
   "execution_count": 137,
   "metadata": {
    "collapsed": false
   },
   "outputs": [
    {
     "name": "stdout",
     "output_type": "stream",
     "text": [
      "[u'get', u'fellow', u'alum', u'rossimpact', u'sec2']\n"
     ]
    }
   ],
   "source": [
    "print tweetsTokenized.take(1)[0][1]"
   ]
  },
  {
   "cell_type": "markdown",
   "metadata": {},
   "source": [
    "## Calculate Word Frequency"
   ]
  },
  {
   "cell_type": "code",
   "execution_count": 155,
   "metadata": {
    "collapsed": false
   },
   "outputs": [
    {
     "name": "stdout",
     "output_type": "stream",
     "text": [
      "There are 712 unique tokens.\n",
      "The 10 most frequently appearing words are:\n",
      "(u'rossimpact', 365)\n",
      "(u'detroit', 147)\n",
      "(u'support', 91)\n",
      "(u'youth', 67)\n",
      "(u'challenge', 62)\n",
      "(u'thinkbyg', 46)\n",
      "(u'help', 45)\n",
      "(u'brightmoor', 35)\n",
      "(u'positive', 34)\n",
      "(u'working', 32)\n",
      "(u'build', 32)\n",
      "(u'tomorrow', 31)\n",
      "(u'change', 29)\n",
      "(u'27', 28)\n",
      "(u'day', 26)\n",
      "(u'eastern', 26)\n",
      "(u'market', 25)\n",
      "(u're', 25)\n",
      "(u'create', 25)\n",
      "(u'impact', 22)\n",
      "(u'entrepreneurs', 21)\n",
      "(u'info', 21)\n",
      "(u'maker', 20)\n",
      "(u'business', 20)\n",
      "(u'bebrightbemoor', 19)\n"
     ]
    }
   ],
   "source": [
    "from operator import add\n",
    "\n",
    "#Flatten tokenized RDD and combine tokens to count them\n",
    "uniqueTokensWithCounts = (noRetweetsTokenized\n",
    "             .flatMap(lambda rec: rec[1])\n",
    "             .filter(lambda token: len(token) > 1)\n",
    "             .filter(lambda token: token not in sections)\n",
    "             .map(lambda word: (word, 1))\n",
    "             .reduceByKey(add)\n",
    "             .cache())\n",
    "\n",
    "#Print the number of unique tokens\n",
    "print \"There are {:d} unique tokens.\".format(uniqueTokensWithCounts.count())\n",
    "\n",
    "#Get the top 100 tokens\n",
    "topHundred = uniqueTokensWithCounts.takeOrdered(100, lambda rec: -rec[1])\n",
    "\n",
    "#Save the top results for creating wordles\n",
    "tops = [25, 50, 100]\n",
    "topsFiles = []\n",
    "\n",
    "for top in tops:\n",
    "    topsFiles.append(open(os.path.join('/vagrant/top'+str(top)+'Results.txt'), 'wb'))\n",
    "    \n",
    "for i in range(len(topHundred)):\n",
    "    wordPair = topHundred[i]\n",
    "    for j in range(len(tops)):\n",
    "        if i < tops[j]:\n",
    "            for k in range(wordPair[1]):\n",
    "                topsFiles[j].write(wordPair[0]+' ')\n",
    "                \n",
    "for top in topsFiles:\n",
    "    top.close()\n",
    "    \n",
    "#Save a table of the top 100 words\n",
    "topHundredTable = open(os.path.join('/vagrant/top100Table.txt'), 'wb')\n",
    "for wordPair in topHundred:\n",
    "    topHundredTable.write(wordPair[0] + ':' + str(wordPair[1]) + '\\n')\n",
    "topHundredTable.close()\n",
    "        \n",
    "#Print the top 10\n",
    "print \"The 10 most frequently appearing words are:\"\n",
    "for i in range(25):\n",
    "    print topHundred[i]"
   ]
  },
  {
   "cell_type": "markdown",
   "metadata": {},
   "source": [
    "## Calculate IDF for Words"
   ]
  },
  {
   "cell_type": "code",
   "execution_count": 156,
   "metadata": {
    "collapsed": false
   },
   "outputs": [
    {
     "name": "stdout",
     "output_type": "stream",
     "text": [
      "There are 730 unique tokens in the small datasets.\n",
      "\n",
      "The 25 words with the lowest IDF are:\n",
      "(u'rossimpact', 1.0)\n",
      "(u'detroit', 2.5172413793103448)\n",
      "(u'support', 4.010989010989011)\n",
      "(u'youth', 5.53030303030303)\n",
      "(u'challenge', 5.983606557377049)\n",
      "(u'thinkbyg', 7.934782608695652)\n",
      "(u'help', 8.11111111111111)\n",
      "(u'brightmoor', 10.428571428571429)\n",
      "(u'positive', 10.735294117647058)\n",
      "(u'working', 11.40625)\n",
      "(u'build', 11.40625)\n",
      "(u'tomorrow', 11.774193548387096)\n",
      "(u'change', 12.586206896551724)\n",
      "(u'27', 13.035714285714286)\n",
      "(u'8', 13.518518518518519)\n",
      "(u'eastern', 14.038461538461538)\n",
      "(u'market', 14.6)\n",
      "(u're', 14.6)\n",
      "(u'create', 14.6)\n",
      "(u'day', 16.59090909090909)\n",
      "(u'impact', 16.59090909090909)\n",
      "(u'entrepreneurs', 17.38095238095238)\n",
      "(u'info', 17.38095238095238)\n",
      "(u'maker', 18.25)\n",
      "(u'business', 18.25)\n"
     ]
    }
   ],
   "source": [
    "def termFreq(tokens):\n",
    "    \"\"\"Count the number of times a term appears in a document\n",
    "    Args:\n",
    "        tokens: list of tokens\n",
    "    Returns:\n",
    "        tokenDict: dictionary mapping tokens to term frequency\n",
    "    \"\"\"\n",
    "    \n",
    "    numTokens = len(tokens)\n",
    "    tokenDict = {}\n",
    "    \n",
    "    for token in tokens:\n",
    "        try:\n",
    "            tokenDict[token] += 1.0\n",
    "        except KeyError:\n",
    "            tokenDict[token] = 1.0\n",
    "            \n",
    "    for key in tokenDict.keys():\n",
    "        tokenDict[key] /= numTokens\n",
    "        \n",
    "    return tokenDict\n",
    "\n",
    "def idfs(corpus):\n",
    "    \"\"\" Compute IDF\n",
    "    Args:\n",
    "        corpus (RDD): input corpus\n",
    "    Returns:\n",
    "        RDD: a RDD of (token, IDF value)\n",
    "    \"\"\"\n",
    "    #Calculate the total number of documents in the corpus\n",
    "    N = float(corpus.count())\n",
    "    \n",
    "    #Extract just the unique tokens\n",
    "    uniqueTokens = corpus.flatMap(lambda s: list(set(s[1])))\n",
    "    tokenCountPairTuple = uniqueTokens.map(lambda token: (token, 1))\n",
    "    tokenSumPairTuple = tokenCountPairTuple.reduceByKey(lambda a,b:a+b)\n",
    "    return (tokenSumPairTuple.mapValues(lambda nt: N/nt))\n",
    "\n",
    "tweetsIDFS = idfs(noRetweetsTokenized).cache()\n",
    "uniqueTokenCount = tweetsIDFS.count()\n",
    "\n",
    "print 'There are %s unique tokens in the small datasets.' % uniqueTokenCount\n",
    "print ''\n",
    "\n",
    "#Get the top 100 words with low IDF\n",
    "topHundredIDF = tweetsIDFS.filter(lambda s: s[0] not in sections).takeOrdered(100, lambda s: s[1])\n",
    "\n",
    "print \"The 25 words with the lowest IDF are:\"\n",
    "for i in range(25):\n",
    "    print topHundredIDF[i]"
   ]
  },
  {
   "cell_type": "markdown",
   "metadata": {},
   "source": [
    "## Compute a hapiness valence for each project idea"
   ]
  },
  {
   "cell_type": "code",
   "execution_count": 168,
   "metadata": {
    "collapsed": false
   },
   "outputs": [
    {
     "name": "stdout",
     "output_type": "stream",
     "text": [
      "Happiness mean = 3.47749758511, median = 3.60775, stdev = 0.979850955975\n"
     ]
    },
    {
     "data": {
      "image/png": "[encoded data removed]",
      "text/plain": [
       "<matplotlib.figure.Figure at 0x98bae8ec>"
      ]
     },
     "metadata": {},
     "output_type": "display_data"
    }
   ],
   "source": [
    "def getHapps(word):\n",
    "    \"\"\"Get the happiness valence of a word\n",
    "    Args:\n",
    "        word (str): a word\n",
    "    Returns:\n",
    "        happs value (float): If the word is in labMT then the hapiness valence will be returned\n",
    "        False: If the word is absent from labMT then False is returned\n",
    "    \"\"\"\n",
    "    try:\n",
    "        return labMTBroadcast.value[word]['happs']\n",
    "    except KeyError:\n",
    "        return False\n",
    "    \n",
    "def getTextHappAvg(text):\n",
    "    \"\"\"Calculates the average happiness of a text\n",
    "    Args:\n",
    "        text (list): list of tokens in the text\n",
    "    Returns:\n",
    "        avgHappiness (float): average happiness score as calculated using \n",
    "    \"\"\"\n",
    "    tokenFreqDict = termFreq(text)\n",
    "    freqSum = sum([tokenFreqDict[key] for key in tokenFreqDict.keys()])\n",
    "    \n",
    "    tokenHappDict = {token:getHapps(token) for token in text if getHapps(token) != False}\n",
    "    \n",
    "    return sum([tokenHappDict[token]*tokenFreqDict[token]/freqSum for token in tokenHappDict.keys()])\n",
    "\n",
    "tweetsHappiness = (noRetweetsTokenized\n",
    "                   .mapValues(getTextHappAvg)\n",
    "                   .filter(lambda s: s[1] != 0))\n",
    "\n",
    "import matplotlib.pyplot as plt\n",
    "\n",
    "tweetsHappsValues = tweetsHappiness.map(lambda s: s[1]).collect()\n",
    "\n",
    "mean = np.mean(tweetsHappsValues)\n",
    "median = np.median(tweetsHappsValues)\n",
    "stdev = np.std(tweetsHappsValues)\n",
    "\n",
    "fig = plt.figure(figsize=(10,5))\n",
    "plt.hist(tweetsHappsValues, 35, color='#ffcb05', edgecolor='#00274c')\n",
    "plt.axvline(mean, color='r', linestyle='dashed', linewidth=2, label='Average of Tweets')\n",
    "plt.axvline(5, color='b', linestyle='dashed', linewidth=2, label='Neutral')\n",
    "plt.title(\"Distribution of Tweet Happiness\")\n",
    "plt.xticks(range(1,10))\n",
    "plt.xlabel(\"Average Hapiness\")\n",
    "plt.ylabel(\"Frequency\")\n",
    "plt.gcf().subplots_adjust(bottom=0.15)\n",
    "plt.legend()\n",
    "plt.savefig(os.path.join('/vagrant/rossImpactTweetsHapps.png'))\n",
    "pass\n",
    "\n",
    "print \"Happiness mean = %s, median = %s, stdev = %s\" % (mean, median, stdev)"
   ]
  },
  {
   "cell_type": "code",
   "execution_count": 176,
   "metadata": {
    "collapsed": false
   },
   "outputs": [
    {
     "name": "stdout",
     "output_type": "stream",
     "text": [
      "[(4043, 5.638181818181819), (2499, 5.230666666666666), (689, 5.195), (3164, 5.1475), (2102, 5.1025), (364, 5.062222222222221), (2316, 4.93625), (3894, 4.867272727272726), (664, 4.854000000000001), (2813, 4.814545454545454)]\n",
      "[(2322, 0.8942857142857145), (629, 0.9000000000000001), (935, 0.92), (3670, 0.9640000000000002), (2083, 1.0), (2100, 1.0), (2191, 1.0), (1091, 1.04), (2921, 1.2225000000000001), (3203, 1.2240000000000002)]\n"
     ]
    }
   ],
   "source": [
    "topHappTweets = tweetsHappiness.takeOrdered(10, lambda s: -s[1])\n",
    "topHappTweetsIndicies = [s[0] for s in topHappTweets]\n",
    "botHappTweets = tweetsHappiness.takeOrdered(10, lambda s: s[1])\n",
    "botHappTweetsIndicies = [s[0] for s in botHappTweets]\n",
    "\n",
    "print topHappTweets\n",
    "print botHappTweets"
   ]
  },
  {
   "cell_type": "code",
   "execution_count": 177,
   "metadata": {
    "collapsed": false
   },
   "outputs": [
    {
     "name": "stdout",
     "output_type": "stream",
     "text": [
      "I am so impressed with #sec5 the #RossImpact Challenge is before classes; we have so much business knowledge #blessed http://t.co/AuNWv8Ka7j\n",
      "@POTUS Check out the #RossImpact Challenge #Sec5 is working on to encourage a cultural change with urban youth http://t.co/MPDCMlYgzY\n",
      "Did not expect to be part of a team helping to write and produce a song inspired by Detroit youth #rossimpact #sec5  https://t.co/bAKzqOo5b4\n",
      "Thank you @iammikemuse for helping #sec5 crush the #RossImpact challenge! The kids loved it! https://t.co/XgKFGCkJQk\n",
      "@ times u feel like ur going n circles. But with the right team, u can move n the right direction! #RossImpact #sec5 http://t.co/7nsO7ozNAi\n",
      "@MichiganRoss Listen! So people know u appreciate their ideas &amp; taking in to account going forward. All want to be valued! #Sec2 #RossImpact\n",
      "@freep Let's support the #RossImpact Challenge - a positive step towards building tomorrow's Detroit. http://t.co/ifEH8kVRuj #Sec5\n",
      "Love seeing all the #ROSSIMPACT tweets from our MBAs!  Keep up the great energy! http://t.co/CjFtnW1hYr\n",
      "http://t.co/36ZugR7xCk this video explains the Ross Leadership Challenge to benefit the Detroit community through business #sec4 #RossImpact\n",
      "Great first day at the Ross leadership challenge and look forward to the second day #RossImpact\n"
     ]
    }
   ],
   "source": [
    "topTweetsText = [tweet[1]['text'] for tweet in noRetweetsRDD.filter(lambda s: s[0] in topHappTweetsIndicies).take(10)]\n",
    "\n",
    "for tweet in topTweetsText:\n",
    "    print tweet"
   ]
  },
  {
   "cell_type": "code",
   "execution_count": 178,
   "metadata": {
    "collapsed": false
   },
   "outputs": [
    {
     "name": "stdout",
     "output_type": "stream",
     "text": [
      "#sec1 hazing one of its own...WALL-E #RossImpact #GoBlue http://t.co/blMai7E3dM\n",
      "What does #thinkBYG mean to you? #sec1 #RossImpact @EasternMarket @MichiganRoss @HuffPostDetroit @GM @Deloitte @freep @Oprah @anikakafi\n",
      "@4LiveInTheD Join us! 8/27 at 11:30am at #EasternMarket to #thinkBYG with #BrightmoorYouthMarket #rossimpact #sec1\n",
      "Slogan: Be-Moor, Make More. #rossimpact #brightmoor #Sec4\n",
      "Slogan: Be-Moor, Make More. #Sec4 #rossimpact #brightmoor\n",
      "#sec4 Slogan: Be-Moor. Make More. #RossImpact #Brightmoor\n",
      "#sec5 logistics team brainstorming over RSVP logistics for the @RossMakerFaire at #Brightmoor #RossImpact http://t.co/GNAyQiHdYU\n",
      "#Sec5 is Gung ho about #BeBrightBeMoor  and #EasternMarket on Aug 27. #RossImpact http://t.co/Lqah0Zgmia\n",
      "@SpikeAlbrecht EVENT: http://t.co/jBUHNzXabU    #RossImpact #Sec2 RSVP:http://t.co/vl2qlDW9NW   #DetroitRising #UofM\n",
      "#Section1 at work #RossImpact #Sec1 #Detroit #BrightmoorYouthGarden #BYG\n",
      "#DYMF #DetroitYouthMakerFaire #smallbiz http://t.co/XqWhkdXpdQ\n"
     ]
    }
   ],
   "source": [
    "bottomTweetsText = [tweet[1]['text'] for tweet in noRetweetsRDD.filter(lambda s: s[0] in botHappTweetsIndicies).take(10)]\n",
    "\n",
    "for tweet in bottomTweetsText:\n",
    "    print tweet"
   ]
  },
  {
   "cell_type": "markdown",
   "metadata": {},
   "source": [
    "## Calculate the Happiest Most Frequently Used Words"
   ]
  },
  {
   "cell_type": "code",
   "execution_count": 206,
   "metadata": {
    "collapsed": false
   },
   "outputs": [],
   "source": [
    "uniqueTokensWithCountsHapps = (uniqueTokensWithCounts\n",
    "                               .map(lambda s: (s[0], s[1], getHapps(s[0])))\n",
    "                               .filter(lambda s: s[2] != False)\n",
    "                               .cache())"
   ]
  },
  {
   "cell_type": "code",
   "execution_count": 208,
   "metadata": {
    "collapsed": false
   },
   "outputs": [],
   "source": [
    "minUsage = 150\n",
    "\n",
    "happiestFreqWords = uniqueTokensWithCountsHapps.filter(lambda s: s[1] > minUsage).takeOrdered(100, lambda s: -s[2])"
   ]
  },
  {
   "cell_type": "code",
   "execution_count": 211,
   "metadata": {
    "collapsed": false
   },
   "outputs": [],
   "source": [
    "writeWordsToFile(happiestFreqWords, 'happiestWords.csv')"
   ]
  },
  {
   "cell_type": "markdown",
   "metadata": {},
   "source": [
    "## Calculate the Happiness Frequency for the Whole Dataset"
   ]
  },
  {
   "cell_type": "code",
   "execution_count": 258,
   "metadata": {
    "collapsed": false
   },
   "outputs": [
    {
     "name": "stdout",
     "output_type": "stream",
     "text": [
      "The level of happiness for all the words used in the project ideas is 5.92912872334.\n"
     ]
    }
   ],
   "source": [
    "numTokens = uniqueTokensWithCountsHapps.map(lambda s: s[1]).sum()\n",
    "uniqueTokensHappsFreq = uniqueTokensWithCountsHapps.map(lambda a: (a[0], a[2], float(a[1])/numTokens)).cache()\n",
    "\n",
    "tweetsAppsFreqSum = uniqueTokensHappsFreq.map(lambda s: s[2]).sum()\n",
    "\n",
    "happsAllApps = uniqueTokensHappsFreq.map(lambda s: s[1]*s[2]).sum()/tweetsFreqSum\n",
    "\n",
    "print \"The level of happiness for all the words used in the project ideas is %s.\" % happsAllApps"
   ]
  },
  {
   "cell_type": "code",
   "execution_count": 254,
   "metadata": {
    "collapsed": false
   },
   "outputs": [
    {
     "name": "stdout",
     "output_type": "stream",
     "text": [
      "Happiness mean = 5.70506520072, median = 5.74, stdev = 0.996916257587\n"
     ]
    },
    {
     "data": {
      "image/png": "[encoded data removed]",
      "text/plain": [
       "<matplotlib.figure.Figure at 0xb05b034c>"
      ]
     },
     "metadata": {},
     "output_type": "display_data"
    }
   ],
   "source": [
    "tokensHappsValues = uniqueTokensWithCountsHapps.filter(lambda s: s[2] != False).map(lambda s: s[2]).collect()\n",
    "\n",
    "mean = np.mean(tokensHappsValues)\n",
    "median = np.median(tokensHappsValues)\n",
    "stdev = np.std(tokensHappsValues)\n",
    "\n",
    "fig = plt.figure(figsize=(8,3))\n",
    "plt.hist(tokensHappsValues, 50)\n",
    "plt.axvline(mean, color='r', linestyle='dashed', linewidth=2)\n",
    "plt.title(\"Distribution of Word Happiness\")\n",
    "plt.xticks(range(1,10))\n",
    "plt.xlabel(\"Average Hapiness\")\n",
    "plt.ylabel(\"Frequency\")\n",
    "plt.gcf().subplots_adjust(bottom=0.15)\n",
    "#plt.savefig(os.path.join(baseDir, 'plot.png'))\n",
    "\n",
    "print \"Happiness mean = %s, median = %s, stdev = %s\" % (mean, median, stdev)"
   ]
  },
  {
   "cell_type": "code",
   "execution_count": 233,
   "metadata": {
    "collapsed": false
   },
   "outputs": [],
   "source": [
    "writeWordsToFile(tokensHappsValues, \"fooBar.csv\")"
   ]
  }
 ],
 "metadata": {
  "kernelspec": {
   "display_name": "Python 2",
   "language": "python",
   "name": "python2"
  },
  "language_info": {
   "codemirror_mode": {
    "name": "ipython",
    "version": 2
   },
   "file_extension": ".py",
   "mimetype": "text/x-python",
   "name": "python",
   "nbconvert_exporter": "python",
   "pygments_lexer": "ipython2",
   "version": "2.7.6"
  }
 },
 "nbformat": 4,
 "nbformat_minor": 0
}
